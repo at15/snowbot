{
 "cells": [
  {
   "cell_type": "markdown",
   "metadata": {},
   "source": [
    "# Cornell"
   ]
  },
  {
   "cell_type": "code",
   "execution_count": 4,
   "metadata": {},
   "outputs": [],
   "source": [
    "import pandas as pd\n",
    "import matplotlib.pyplot as plt"
   ]
  },
  {
   "cell_type": "markdown",
   "metadata": {},
   "source": [
    "[#6](https://github.com/at15/snowbot/issues/6) exporle [Cornell Move Corpus](https://www.cs.cornell.edu/~cristian/Cornell_Movie-Dialogs_Corpus.html), kaggle seems to have a (non-official) [cleaner version](https://www.kaggle.com/Cornell-University/movie-dialog-corpus) with detail explanation"
   ]
  },
  {
   "cell_type": "code",
   "execution_count": 2,
   "metadata": {},
   "outputs": [
    {
     "name": "stdout",
     "output_type": "stream",
     "text": [
      "chameleons.pdf                 movie_lines.txt            README.txt\r\n",
      "movie_characters_metadata.txt  movie_titles_metadata.txt\r\n",
      "movie_conversations.txt        raw_script_urls.txt\r\n"
     ]
    }
   ],
   "source": [
    "ls cornell"
   ]
  },
  {
   "cell_type": "markdown",
   "metadata": {},
   "source": [
    "- separator is '+++$+++'"
   ]
  },
  {
   "cell_type": "code",
   "execution_count": 12,
   "metadata": {},
   "outputs": [],
   "source": [
    "# NOTE: it seems I can't use pd.read_csv\n",
    "# In addition, separators longer than 1 character and different from '\\s+' will be interpreted as regular expressions and will also force the use of the Python parsing engin\n",
    "# movie_titles_metadata = pd.read_csv('cornell/movie_titles_metadata.txt', sep='++++++')"
   ]
  },
  {
   "cell_type": "code",
   "execution_count": 16,
   "metadata": {},
   "outputs": [
    {
     "name": "stdout",
     "output_type": "stream",
     "text": [
      "movie_titles_metadata.txt 617\n",
      "movie_characters_metadata.txt 9035\n",
      "movie_lines.txt 304713\n",
      "movie_conversations.txt 83097\n"
     ]
    }
   ],
   "source": [
    "def line_count(file):\n",
    "    count = 0\n",
    "    # NOTE: it has encoding problem, we have to ignore it ....\n",
    "    with open(file, errors='ignore') as f:\n",
    "        for line in f:\n",
    "            count += 1\n",
    "    return count\n",
    "\n",
    "files = ['movie_titles_metadata.txt', 'movie_characters_metadata.txt', 'movie_lines.txt', 'movie_conversations.txt']\n",
    "for f in files:\n",
    "    print(f, line_count('cornell/' + f))"
   ]
  },
  {
   "cell_type": "markdown",
   "metadata": {},
   "source": [
    "Conversion is, user1, user2, movie, lines [u1, u2, u1, u2] NOTE: it may not be an even number, some pepople just [ignore it for one turn QA](https://github.com/suriyadeepan/datasets/blob/master/seq2seq/cornell_movie_corpus/scripts/prepare_data.py)"
   ]
  }
 ],
 "metadata": {
  "kernelspec": {
   "display_name": "Python 3",
   "language": "python",
   "name": "python3"
  },
  "language_info": {
   "codemirror_mode": {
    "name": "ipython",
    "version": 3
   },
   "file_extension": ".py",
   "mimetype": "text/x-python",
   "name": "python",
   "nbconvert_exporter": "python",
   "pygments_lexer": "ipython3",
   "version": "3.6.3"
  }
 },
 "nbformat": 4,
 "nbformat_minor": 2
}
