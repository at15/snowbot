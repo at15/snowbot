{
 "cells": [
  {
   "cell_type": "markdown",
   "metadata": {},
   "source": [
    "# Cornell"
   ]
  },
  {
   "cell_type": "code",
   "execution_count": 1,
   "metadata": {},
   "outputs": [],
   "source": [
    "import os\n",
    "import sys\n",
    "import re\n",
    "import pandas as pd\n",
    "import numpy as np\n",
    "import matplotlib.pyplot as plt\n",
    "sys.path.append('/home/at15/workspace/src/github.com/at15/snowbot') # hacky way to allow import snowbot modules ...\n",
    "\n",
    "home = '/home/at15/workspace/src/github.com/at15/snowbot-data/cornell'\n",
    "os.chdir(home)"
   ]
  },
  {
   "cell_type": "markdown",
   "metadata": {},
   "source": [
    "## Reference\n",
    "\n",
    "- [#6](https://github.com/at15/snowbot/issues/6) exporle [Cornell Move Corpus](https://www.cs.cornell.edu/~cristian/Cornell_Movie-Dialogs_Corpus.html)\n",
    "- kaggle seems to have a (non-official) [cleaner version](https://www.kaggle.com/Cornell-University/movie-dialog-corpus) with detail explanation\n",
    "- [Currie32/Chatbot-from-Movie-Dialogue](https://github.com/Currie32/Chatbot-from-Movie-Dialogue) and [stanford cs20si/chatbot](https://github.com/chiphuyen/stanford-tensorflow-tutorials/blob/master/assignments/chatbot/data.py) show how to preprocess this data.\n",
    "- [b0noI/dialog_converter](https://github.com/b0noI/dialog_converter) mentioned some dialog are bad, it is used by [blog: building a chatbot in RNN for 6 hrs](https://blog.kovalevskyi.com/rnn-based-chatbot-for-6-hours-b847d2d92c43)"
   ]
  },
  {
   "cell_type": "markdown",
   "metadata": {},
   "source": [
    "## Observation\n",
    "\n",
    "- the raw data is separated by '+++$+++', see the python file for how it is convert to csv\n",
    "- Conversion is, user1, user2, movie, lines [u1, u2, u1, u2] NOTE: it may not be an even number, some pepople just [ignore it for one turn QA](https://github.com/suriyadeepan/datasets/blob/master/seq2seq/cornell_movie_corpus/scripts/prepare_data.py)"
   ]
  },
  {
   "cell_type": "code",
   "execution_count": 4,
   "metadata": {},
   "outputs": [
    {
     "name": "stdout",
     "output_type": "stream",
     "text": [
      "movie_characters_metadata.csv  movie_lines.csv\r\n",
      "movie_conversations.csv        movie_titles_metadata.csv\r\n"
     ]
    }
   ],
   "source": [
    "ls *.csv"
   ]
  },
  {
   "cell_type": "code",
   "execution_count": 5,
   "metadata": {},
   "outputs": [
    {
     "name": "stdout",
     "output_type": "stream",
     "text": [
      "  character_id_1 character_id_2 movie_id                           lines\n",
      "0             u0             u2       m0  'L194'; 'L195'; 'L196'; 'L197'\n",
      "1             u0             u2       m0                  'L198'; 'L199'\n",
      "2             u0             u2       m0  'L200'; 'L201'; 'L202'; 'L203'\n",
      "3             u0             u2       m0          'L204'; 'L205'; 'L206'\n",
      "4             u0             u2       m0                  'L207'; 'L208'\n",
      "      id character_id movie_id character_name     utterance\n",
      "0  L1045           u0       m0         BIANCA  They do not!\n",
      "1  L1044           u2       m0        CAMERON   They do to!\n",
      "2   L985           u0       m0         BIANCA    I hope so.\n",
      "3   L984           u2       m0        CAMERON     She okay?\n",
      "4   L925           u0       m0         BIANCA     Let's go.\n"
     ]
    }
   ],
   "source": [
    "convs = pd.read_csv('movie_conversations.csv')\n",
    "lines = pd.read_csv('movie_lines.csv')\n",
    "print(convs.head())\n",
    "print(lines.head())"
   ]
  },
  {
   "cell_type": "code",
   "execution_count": 10,
   "metadata": {},
   "outputs": [],
   "source": [
    "convs_lines = []\n",
    "convs_u = []\n",
    "for u1, u2, conv in zip(convs['character_id_1'], convs['character_id_2'], convs['lines']):\n",
    "    # str 'L1'; 'L2' -> list [L1, L2]\n",
    "    conv_lines = [l.strip()[1:-1] for l in conv.split(';')]\n",
    "    conv_u = [u1, u2]\n",
    "    convs_lines.append(conv_lines)\n",
    "    convs_u.append(conv_u)\n",
    "\n",
    "lines = lines.fillna('')\n",
    "id2line = {}\n",
    "id2u = {}\n",
    "for line_id, u, line in zip(lines['id'], lines['character_id'], lines['utterance']):\n",
    "    id2line[line_id] = line\n",
    "    id2u[line_id] = u"
   ]
  },
  {
   "cell_type": "code",
   "execution_count": 15,
   "metadata": {},
   "outputs": [
    {
     "name": "stdout",
     "output_type": "stream",
     "text": [
      "total 221616\n",
      "same character 1037 0.004679265035015523\n",
      "empty 334 0.0015071113998989243\n"
     ]
    }
   ],
   "source": [
    "# check if our assumption is wring\n",
    "n_qa_total = 0\n",
    "n_qa_same_character = 0\n",
    "n_qa_empty = 0\n",
    "for conv in convs_lines:\n",
    "    for i in range(len(conv) - 1):\n",
    "        line_q = conv[i]\n",
    "        line_a = conv[i+1]\n",
    "        n_qa_total += 1\n",
    "        if id2u[line_q] == id2u[line_a]:\n",
    "            n_qa_same_character += 1\n",
    "            # print('same character in adjacent lines', line_q, line_a)\n",
    "        if not id2line[line_q] or not id2line[line_a]:\n",
    "            n_qa_empty += 1\n",
    "print('total', n_qa_total)\n",
    "print('same character', n_qa_same_character, n_qa_same_character / n_qa_total)\n",
    "print('empty', n_qa_empty, n_qa_empty / n_qa_total)"
   ]
  },
  {
   "cell_type": "markdown",
   "metadata": {},
   "source": [
    "## Bucket"
   ]
  },
  {
   "cell_type": "markdown",
   "metadata": {},
   "source": [
    "- https://github.com/awslabs/sockeye/blob/master/sockeye/data_io.py `define_parallel_bucket` is not very useful"
   ]
  },
  {
   "cell_type": "code",
   "execution_count": 3,
   "metadata": {},
   "outputs": [
    {
     "name": "stdout",
     "output_type": "stream",
     "text": [
      "3.6.3 |Anaconda custom (64-bit)| (default, Nov  9 2017, 00:19:18) \n",
      "[GCC 7.2.0]\n"
     ]
    }
   ],
   "source": [
    "import sys\n",
    "print(sys.version)"
   ]
  },
  {
   "cell_type": "code",
   "execution_count": 11,
   "metadata": {},
   "outputs": [],
   "source": [
    "from collections import OrderedDict\n",
    "from typing import Callable, Dict, List, NamedTuple, Optional, Tuple, Union, Set\n",
    "\n",
    "def define_buckets(max_seq_len: int, step=10) -> List[int]:\n",
    "    \"\"\"\n",
    "    Returns a list of integers defining bucket boundaries.\n",
    "    Bucket boundaries are created according to the following policy:\n",
    "    We generate buckets with a step size of step until the final bucket fits max_seq_len.\n",
    "    We then limit that bucket to max_seq_len (difference between semi-final and final bucket may be less than step).\n",
    "    :param max_seq_len: Maximum bucket size.\n",
    "    :param step: Distance between buckets.\n",
    "    :return: List of bucket sizes.\n",
    "    \"\"\"\n",
    "    buckets = [bucket_len for bucket_len in range(step, max_seq_len + step, step)]\n",
    "    buckets[-1] = max_seq_len\n",
    "    return buckets\n",
    "\n",
    "def define_parallel_buckets(max_seq_len_source: int,\n",
    "                            max_seq_len_target: int,\n",
    "                            bucket_width: int = 10,\n",
    "                            length_ratio: float = 1.0) -> List[Tuple[int, int]]:\n",
    "    \"\"\"\n",
    "    Returns (source, target) buckets up to (max_seq_len_source, max_seq_len_target).  The longer side of the data uses\n",
    "    steps of bucket_width while the shorter side uses steps scaled down by the average target/source length ratio.  If\n",
    "    one side reaches its max_seq_len before the other, width of extra buckets on that side is fixed to that max_seq_len.\n",
    "    :param max_seq_len_source: Maximum source bucket size.\n",
    "    :param max_seq_len_target: Maximum target bucket size.\n",
    "    :param bucket_width: Width of buckets on longer side.\n",
    "    :param length_ratio: Length ratio of data (target/source).\n",
    "    \"\"\"\n",
    "    source_step_size = bucket_width\n",
    "    target_step_size = bucket_width\n",
    "    if length_ratio >= 1.0:\n",
    "        # target side is longer -> scale source\n",
    "        source_step_size = max(1, int(bucket_width / length_ratio))\n",
    "    else:\n",
    "        # source side is longer, -> scale target\n",
    "        target_step_size = max(1, int(bucket_width * length_ratio))\n",
    "    source_buckets = define_buckets(max_seq_len_source, step=source_step_size)\n",
    "    target_buckets = define_buckets(max_seq_len_target, step=target_step_size)\n",
    "    # Extra buckets\n",
    "    if len(source_buckets) < len(target_buckets):\n",
    "        source_buckets += [source_buckets[-1] for _ in range(len(target_buckets) - len(source_buckets))]\n",
    "    elif len(target_buckets) < len(source_buckets):\n",
    "        target_buckets += [target_buckets[-1] for _ in range(len(source_buckets) - len(target_buckets))]\n",
    "    # minimum bucket size is 2 (as we add BOS symbol to target side)\n",
    "    source_buckets = [max(2, b) for b in source_buckets]\n",
    "    target_buckets = [max(2, b) for b in target_buckets]\n",
    "    parallel_buckets = list(zip(source_buckets, target_buckets))\n",
    "    # deduplicate for return\n",
    "    return list(OrderedDict.fromkeys(parallel_buckets))"
   ]
  },
  {
   "cell_type": "code",
   "execution_count": 12,
   "metadata": {},
   "outputs": [
    {
     "data": {
      "text/plain": [
       "[(10, 10),\n",
       " (20, 20),\n",
       " (30, 30),\n",
       " (40, 40),\n",
       " (50, 50),\n",
       " (60, 60),\n",
       " (70, 70),\n",
       " (80, 80),\n",
       " (90, 90),\n",
       " (100, 100)]"
      ]
     },
     "execution_count": 12,
     "metadata": {},
     "output_type": "execute_result"
    }
   ],
   "source": [
    "define_parallel_buckets(100, 100)"
   ]
  },
  {
   "cell_type": "code",
   "execution_count": 2,
   "metadata": {},
   "outputs": [],
   "source": [
    "from snowbot.corpus.util import file2ids"
   ]
  },
  {
   "cell_type": "code",
   "execution_count": 3,
   "metadata": {},
   "outputs": [],
   "source": [
    "src_train_ids = file2ids('src-train.txt', 'src-vocab.json')\n",
    "tgt_train_ids = file2ids('tgt-train.txt', 'tgt-vocab.json')"
   ]
  },
  {
   "cell_type": "code",
   "execution_count": 4,
   "metadata": {},
   "outputs": [
    {
     "data": {
      "image/png": "[encoded data removed]",
      "text/plain": [
       "<matplotlib.figure.Figure at 0x7f4cf87ea6a0>"
      ]
     },
     "metadata": {},
     "output_type": "display_data"
    }
   ],
   "source": [
    "src_train_ids_len = [len(ids) for ids in src_train_ids]\n",
    "plt.hist(src_train_ids_len, range=(0, 50))\n",
    "plt.show()"
   ]
  },
  {
   "cell_type": "code",
   "execution_count": 5,
   "metadata": {},
   "outputs": [
    {
     "data": {
      "image/png": "[encoded data removed]",
      "text/plain": [
       "<matplotlib.figure.Figure at 0x7f4cf87eab00>"
      ]
     },
     "metadata": {},
     "output_type": "display_data"
    }
   ],
   "source": [
    "tgt_train_ids_len = [len(ids) for ids in tgt_train_ids]\n",
    "plt.hist(tgt_train_ids_len, range=(0, 50))\n",
    "plt.show()"
   ]
  },
  {
   "cell_type": "code",
   "execution_count": 6,
   "metadata": {},
   "outputs": [
    {
     "name": "stdout",
     "output_type": "stream",
     "text": [
      "hist [123646  44918  14467   5683   2464   1150    636    314    184    136]\n",
      "bins [   0.   10.   20.   30.   40.   50.   60.   70.   80.   90.  100.]\n",
      "weight [ 0.63867395  0.23201686  0.07472701  0.02935464  0.0127274   0.00594014\n",
      "  0.00328516  0.00162192  0.00095042  0.00070249]\n"
     ]
    }
   ],
   "source": [
    "hist, bin_edges = np.histogram(src_train_ids_len, range=(0, 100), bins=10)\n",
    "print('hist', hist)\n",
    "print('bins', bin_edges)\n",
    "print('weight', hist / hist.sum())"
   ]
  },
  {
   "cell_type": "code",
   "execution_count": 7,
   "metadata": {},
   "outputs": [
    {
     "name": "stdout",
     "output_type": "stream",
     "text": [
      "random bucket [4]\n"
     ]
    },
    {
     "data": {
      "image/png": "[encoded data removed]",
      "text/plain": [
       "<matplotlib.figure.Figure at 0x7f6a523e5e80>"
      ]
     },
     "metadata": {},
     "output_type": "display_data"
    }
   ],
   "source": [
    "print('random bucket', np.random.choice(np.arange(len(hist)), 1, p=hist / hist.sum()))\n",
    "picked_bucket = []\n",
    "for i in range(100):\n",
    "    picked_bucket.append(np.random.choice(np.arange(len(hist)), 1, p=hist / hist.sum())[0])\n",
    "plt.hist(picked_bucket)\n",
    "plt.show()"
   ]
  },
  {
   "cell_type": "code",
   "execution_count": 30,
   "metadata": {},
   "outputs": [],
   "source": [
    "def bucket_ids(idss):\n",
    "    lens = [len(ids) for ids in idss]\n",
    "    hist, bin_edges = np.histogram(lens, range=(0, 100), bins=10)\n",
    "    print('hist', hist)\n",
    "    print('sum', np.sum(hist))\n",
    "    print('bin_edges', bin_edges)\n",
    "    buckets = [[] for _ in bin_edges]\n",
    "    for ids in idss:\n",
    "        length = len(ids)\n",
    "        no_bucket = True\n",
    "        for j in range(len(bin_edges) - 1, -1, -1):\n",
    "            if length >= bin_edges[j]:\n",
    "                no_bucket = False\n",
    "                buckets[j].append(ids)\n",
    "                break\n",
    "        if no_bucket:\n",
    "            print('no bucket for', length)\n",
    "    return buckets"
   ]
  },
  {
   "cell_type": "code",
   "execution_count": 31,
   "metadata": {},
   "outputs": [
    {
     "name": "stdout",
     "output_type": "stream",
     "text": [
      "hist [123646  44918  14467   5683   2464   1150    636    314    184    136]\n",
      "sum 193598\n",
      "bin_edges [   0.   10.   20.   30.   40.   50.   60.   70.   80.   90.  100.]\n",
      "buckets len [123646, 44918, 14467, 5683, 2464, 1150, 636, 314, 184, 126, 259]\n",
      "sum 193847\n"
     ]
    },
    {
     "data": {
      "image/png": "[encoded data removed]",
      "text/plain": [
       "<matplotlib.figure.Figure at 0x7f6a1b43a710>"
      ]
     },
     "metadata": {},
     "output_type": "display_data"
    }
   ],
   "source": [
    "buckets = bucket_ids(src_train_ids)\n",
    "buckets_lens = [len(b) for b in buckets]\n",
    "print('buckets len', buckets_lens)\n",
    "print('sum', np.sum(buckets_lens))\n",
    "plt.bar(range(0, len(buckets)), buckets_lens)\n",
    "plt.show()"
   ]
  },
  {
   "cell_type": "code",
   "execution_count": 10,
   "metadata": {},
   "outputs": [],
   "source": [
    "def bucket_ids(src_ids, tgt_ids):\n",
    "    lens = [len(ids) for ids in src_ids]\n",
    "    hist, bin_edges = np.histogram(lens, range=(0, 100), bins=10)\n",
    "    src_buckets = [[] for _ in bin_edges]\n",
    "    tgt_buckets = [[] for _ in bin_edges]\n",
    "    for ids, t_ids in zip(src_ids, tgt_ids):\n",
    "        length = len(ids)\n",
    "        for j in range(len(bin_edges) - 1, -1, -1):\n",
    "            if length >= bin_edges[j]:\n",
    "                src_buckets[j].append(ids)\n",
    "                tgt_buckets[j].append(t_ids)\n",
    "                break\n",
    "    t = 0\n",
    "    for b in src_buckets:\n",
    "        t += len(b)\n",
    "    print(t, len(src_ids))\n",
    "    assert t == len(src_ids)\n",
    "    return src_buckets, tgt_buckets"
   ]
  },
  {
   "cell_type": "code",
   "execution_count": 11,
   "metadata": {},
   "outputs": [
    {
     "name": "stdout",
     "output_type": "stream",
     "text": [
      "193847 193847\n"
     ]
    }
   ],
   "source": [
    "src_buckets, tgt_buckets = bucket_ids(src_train_ids, tgt_train_ids)"
   ]
  },
  {
   "cell_type": "markdown",
   "metadata": {},
   "source": [
    "## Playground"
   ]
  },
  {
   "cell_type": "code",
   "execution_count": 4,
   "metadata": {},
   "outputs": [
    {
     "data": {
      "text/plain": [
       "'I am a fan of mr bruce'"
      ]
     },
     "execution_count": 4,
     "metadata": {},
     "output_type": "execute_result"
    }
   ],
   "source": [
    "cleaner =  re.compile('(<u>|</u>|\\[|\\])')\n",
    "cleaner.sub('', 'I am <u>a</u> fan of [mr bruce]')"
   ]
  }
 ],
 "metadata": {
  "kernelspec": {
   "display_name": "Python 3",
   "language": "python",
   "name": "python3"
  },
  "language_info": {
   "codemirror_mode": {
    "name": "ipython",
    "version": 3
   },
   "file_extension": ".py",
   "mimetype": "text/x-python",
   "name": "python",
   "nbconvert_exporter": "python",
   "pygments_lexer": "ipython3",
   "version": "3.6.3"
  }
 },
 "nbformat": 4,
 "nbformat_minor": 2
}
