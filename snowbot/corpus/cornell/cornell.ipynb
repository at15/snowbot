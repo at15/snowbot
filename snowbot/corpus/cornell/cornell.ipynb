{
 "cells": [
  {
   "cell_type": "markdown",
   "metadata": {},
   "source": [
    "# Cornell"
   ]
  },
  {
   "cell_type": "code",
   "execution_count": 3,
   "metadata": {},
   "outputs": [],
   "source": [
    "import os\n",
    "import re\n",
    "import pandas as pd\n",
    "import numpy as np\n",
    "import matplotlib.pyplot as plt\n",
    "\n",
    "home = '../../../data/cornell'\n",
    "os.chdir(home)"
   ]
  },
  {
   "cell_type": "markdown",
   "metadata": {},
   "source": [
    "## Reference\n",
    "\n",
    "- [#6](https://github.com/at15/snowbot/issues/6) exporle [Cornell Move Corpus](https://www.cs.cornell.edu/~cristian/Cornell_Movie-Dialogs_Corpus.html)\n",
    "- kaggle seems to have a (non-official) [cleaner version](https://www.kaggle.com/Cornell-University/movie-dialog-corpus) with detail explanation\n",
    "- [Currie32/Chatbot-from-Movie-Dialogue](https://github.com/Currie32/Chatbot-from-Movie-Dialogue) and [stanford cs20si/chatbot](https://github.com/chiphuyen/stanford-tensorflow-tutorials/blob/master/assignments/chatbot/data.py) show how to preprocess this data.\n",
    "- [b0noI/dialog_converter](https://github.com/b0noI/dialog_converter) mentioned some dialog are bad, it is used by [blog: building a chatbot in RNN for 6 hrs](https://blog.kovalevskyi.com/rnn-based-chatbot-for-6-hours-b847d2d92c43)"
   ]
  },
  {
   "cell_type": "markdown",
   "metadata": {},
   "source": [
    "## Observation\n",
    "\n",
    "- the raw data is separated by '+++$+++', see the python file for how it is convert to csv\n",
    "- Conversion is, user1, user2, movie, lines [u1, u2, u1, u2] NOTE: it may not be an even number, some pepople just [ignore it for one turn QA](https://github.com/suriyadeepan/datasets/blob/master/seq2seq/cornell_movie_corpus/scripts/prepare_data.py)"
   ]
  },
  {
   "cell_type": "code",
   "execution_count": 4,
   "metadata": {},
   "outputs": [
    {
     "name": "stdout",
     "output_type": "stream",
     "text": [
      "movie_characters_metadata.csv  movie_lines.csv\r\n",
      "movie_conversations.csv        movie_titles_metadata.csv\r\n"
     ]
    }
   ],
   "source": [
    "ls *.csv"
   ]
  },
  {
   "cell_type": "code",
   "execution_count": 5,
   "metadata": {},
   "outputs": [
    {
     "name": "stdout",
     "output_type": "stream",
     "text": [
      "  character_id_1 character_id_2 movie_id                           lines\n",
      "0             u0             u2       m0  'L194'; 'L195'; 'L196'; 'L197'\n",
      "1             u0             u2       m0                  'L198'; 'L199'\n",
      "2             u0             u2       m0  'L200'; 'L201'; 'L202'; 'L203'\n",
      "3             u0             u2       m0          'L204'; 'L205'; 'L206'\n",
      "4             u0             u2       m0                  'L207'; 'L208'\n",
      "      id character_id movie_id character_name     utterance\n",
      "0  L1045           u0       m0         BIANCA  They do not!\n",
      "1  L1044           u2       m0        CAMERON   They do to!\n",
      "2   L985           u0       m0         BIANCA    I hope so.\n",
      "3   L984           u2       m0        CAMERON     She okay?\n",
      "4   L925           u0       m0         BIANCA     Let's go.\n"
     ]
    }
   ],
   "source": [
    "convs = pd.read_csv('movie_conversations.csv')\n",
    "lines = pd.read_csv('movie_lines.csv')\n",
    "print(convs.head())\n",
    "print(lines.head())"
   ]
  },
  {
   "cell_type": "code",
   "execution_count": 10,
   "metadata": {},
   "outputs": [],
   "source": [
    "convs_lines = []\n",
    "convs_u = []\n",
    "for u1, u2, conv in zip(convs['character_id_1'], convs['character_id_2'], convs['lines']):\n",
    "    # str 'L1'; 'L2' -> list [L1, L2]\n",
    "    conv_lines = [l.strip()[1:-1] for l in conv.split(';')]\n",
    "    conv_u = [u1, u2]\n",
    "    convs_lines.append(conv_lines)\n",
    "    convs_u.append(conv_u)\n",
    "\n",
    "lines = lines.fillna('')\n",
    "id2line = {}\n",
    "id2u = {}\n",
    "for line_id, u, line in zip(lines['id'], lines['character_id'], lines['utterance']):\n",
    "    id2line[line_id] = line\n",
    "    id2u[line_id] = u"
   ]
  },
  {
   "cell_type": "code",
   "execution_count": 15,
   "metadata": {},
   "outputs": [
    {
     "name": "stdout",
     "output_type": "stream",
     "text": [
      "total 221616\n",
      "same character 1037 0.004679265035015523\n",
      "empty 334 0.0015071113998989243\n"
     ]
    }
   ],
   "source": [
    "# check if our assumption is wring\n",
    "n_qa_total = 0\n",
    "n_qa_same_character = 0\n",
    "n_qa_empty = 0\n",
    "for conv in convs_lines:\n",
    "    for i in range(len(conv) - 1):\n",
    "        line_q = conv[i]\n",
    "        line_a = conv[i+1]\n",
    "        n_qa_total += 1\n",
    "        if id2u[line_q] == id2u[line_a]:\n",
    "            n_qa_same_character += 1\n",
    "            # print('same character in adjacent lines', line_q, line_a)\n",
    "        if not id2line[line_q] or not id2line[line_a]:\n",
    "            n_qa_empty += 1\n",
    "print('total', n_qa_total)\n",
    "print('same character', n_qa_same_character, n_qa_same_character / n_qa_total)\n",
    "print('empty', n_qa_empty, n_qa_empty / n_qa_total)"
   ]
  },
  {
   "cell_type": "markdown",
   "metadata": {},
   "source": [
    "## Playground"
   ]
  },
  {
   "cell_type": "code",
   "execution_count": 4,
   "metadata": {},
   "outputs": [
    {
     "data": {
      "text/plain": [
       "'I am a fan of mr bruce'"
      ]
     },
     "execution_count": 4,
     "metadata": {},
     "output_type": "execute_result"
    }
   ],
   "source": [
    "cleaner =  re.compile('(<u>|</u>|\\[|\\])')\n",
    "cleaner.sub('', 'I am <u>a</u> fan of [mr bruce]')"
   ]
  }
 ],
 "metadata": {
  "kernelspec": {
   "display_name": "Python 3",
   "language": "python",
   "name": "python3"
  },
  "language_info": {
   "codemirror_mode": {
    "name": "ipython",
    "version": 3
   },
   "file_extension": ".py",
   "mimetype": "text/x-python",
   "name": "python",
   "nbconvert_exporter": "python",
   "pygments_lexer": "ipython3",
   "version": "3.6.3"
  }
 },
 "nbformat": 4,
 "nbformat_minor": 2
}
